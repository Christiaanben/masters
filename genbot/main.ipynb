{
 "cells": [
  {
   "cell_type": "markdown",
   "source": [
    "# Parameterised Generation of Conversational Text\n"
   ],
   "metadata": {
    "collapsed": false,
    "pycharm": {
     "name": "#%% md\n"
    }
   }
  },
  {
   "cell_type": "code",
   "execution_count": 1,
   "outputs": [],
   "source": [
    "import json\n",
    "\n",
    "from torch.nn import BCEWithLogitsLoss\n",
    "from torch.optim.adam import Adam\n",
    "from torch.utils.data import DataLoader\n",
    "from tqdm import tqdm\n",
    "\n",
    "from genbot.data import IntentClassificationDataset, IntentPredictionDataset\n",
    "from genbot.models import IntentClassifier, IntentPredictor\n",
    "\n",
    "DATASET_FILENAME = '../data/clean/customer_support_twitter_sample.json'\n",
    "TESTSET_FILENAME = '../data/clean/customer_support_twitter_sample_test.json'\n",
    "N_EPOCHS = 2"
   ],
   "metadata": {
    "collapsed": false,
    "pycharm": {
     "name": "#%%\n"
    }
   }
  },
  {
   "cell_type": "markdown",
   "source": [
    "## Train Classification"
   ],
   "metadata": {
    "collapsed": false,
    "pycharm": {
     "name": "#%% md\n"
    }
   }
  },
  {
   "cell_type": "code",
   "execution_count": 2,
   "outputs": [
    {
     "name": "stderr",
     "output_type": "stream",
     "text": [
      "Some weights of the model checkpoint at distilbert-base-uncased were not used when initializing DistilBertModel: ['vocab_transform.bias', 'vocab_layer_norm.bias', 'vocab_projector.bias', 'vocab_transform.weight', 'vocab_layer_norm.weight', 'vocab_projector.weight']\n",
      "- This IS expected if you are initializing DistilBertModel from the checkpoint of a model trained on another task or with another architecture (e.g. initializing a BertForSequenceClassification model from a BertForPreTraining model).\n",
      "- This IS NOT expected if you are initializing DistilBertModel from the checkpoint of a model that you expect to be exactly identical (initializing a BertForSequenceClassification model from a BertForSequenceClassification model).\n",
      "  0%|          | 0/2 [00:00<?, ?it/s]"
     ]
    },
    {
     "name": "stdout",
     "output_type": "stream",
     "text": [
      "Epoch 0\n"
     ]
    },
    {
     "name": "stderr",
     "output_type": "stream",
     "text": [
      " 50%|█████     | 1/2 [00:02<00:02,  2.22s/it]"
     ]
    },
    {
     "name": "stdout",
     "output_type": "stream",
     "text": [
      "running_loss: tensor(0.3209, device='cuda:0', grad_fn=<DivBackward0>)\n",
      "Epoch 1\n"
     ]
    },
    {
     "name": "stderr",
     "output_type": "stream",
     "text": [
      "100%|██████████| 2/2 [00:02<00:00,  1.37s/it]"
     ]
    },
    {
     "name": "stdout",
     "output_type": "stream",
     "text": [
      "running_loss: tensor(0.2610, device='cuda:0', grad_fn=<DivBackward0>)\n"
     ]
    },
    {
     "name": "stderr",
     "output_type": "stream",
     "text": [
      "\n"
     ]
    }
   ],
   "source": [
    "with open(DATASET_FILENAME) as file:\n",
    "    data = json.load(file)\n",
    "classifier_dataset = IntentClassificationDataset(data)\n",
    "classifier_dataloader = DataLoader(classifier_dataset, batch_size=2)\n",
    "classifier = IntentClassifier(classifier_dataset.n_labels).to('cuda')\n",
    "classifier_criterion = BCEWithLogitsLoss()\n",
    "classifier_optimizer = Adam(classifier.parameters(), lr=1e-05)\n",
    "classifier.train()\n",
    "for epoch in tqdm(range(N_EPOCHS)):\n",
    "    print(\"Epoch\", epoch)\n",
    "    running_loss = 0.\n",
    "    for inputs, targets in classifier_dataloader:\n",
    "        outputs = classifier(inputs)\n",
    "        targets = targets.to('cuda')\n",
    "        loss = classifier_criterion(outputs, targets)\n",
    "        running_loss += loss\n",
    "        loss.backward()\n",
    "        classifier_optimizer.step()\n",
    "    print('running_loss:', running_loss/len(classifier_dataset))\n",
    "\n"
   ],
   "metadata": {
    "collapsed": false,
    "pycharm": {
     "name": "#%%\n"
    }
   }
  },
  {
   "cell_type": "markdown",
   "source": [
    "## Evaluate Classification"
   ],
   "metadata": {
    "collapsed": false,
    "pycharm": {
     "name": "#%% md\n"
    }
   }
  },
  {
   "cell_type": "code",
   "execution_count": 3,
   "outputs": [
    {
     "name": "stdout",
     "output_type": "stream",
     "text": [
      "tensor(0.3853, device='cuda:0',\n",
      "       grad_fn=<BinaryCrossEntropyWithLogitsBackward0>)\n",
      "tensor(0.3944, device='cuda:0',\n",
      "       grad_fn=<BinaryCrossEntropyWithLogitsBackward0>)\n"
     ]
    }
   ],
   "source": [
    "with open(TESTSET_FILENAME) as file:\n",
    "    test = json.load(file)\n",
    "classifier_testset = IntentClassificationDataset(test, intents=classifier_dataset.intents)\n",
    "classifier_testloader = DataLoader(classifier_testset, batch_size=2)\n",
    "classifier.eval()\n",
    "for inputs, targets in classifier_testloader:\n",
    "    outputs = classifier(inputs)\n",
    "    targets = targets.to('cuda')\n",
    "\n",
    "    loss = classifier_criterion(outputs, targets)\n",
    "    print(loss)"
   ],
   "metadata": {
    "collapsed": false,
    "pycharm": {
     "name": "#%%\n"
    }
   }
  },
  {
   "cell_type": "code",
   "execution_count": 4,
   "outputs": [
    {
     "name": "stderr",
     "output_type": "stream",
     "text": [
      "100%|██████████| 2/2 [00:00<00:00, 257.01it/s]"
     ]
    },
    {
     "name": "stdout",
     "output_type": "stream",
     "text": [
      "Epoch 0\n",
      "('USERNAME @AppleSupport Me too am suffering , hope the can find a solution', 'USERNAME We can help. Which version of iOS are you on? You can find that in Settings > General > About. Reply in DM. URL')\n",
      "tensor([[1., 0., 0., 0., 0., 0., 0., 0., 0.],\n",
      "        [0., 0., 0., 0., 1., 0., 0., 0., 1.]])\n",
      "('USERNAME @AppleSupport Me too am suffering , hope the can find a solution', 'USERNAME We can help. Which version of iOS are you on? You can find that in Settings > General > About. Reply in DM. URL')\n",
      "##########\n",
      "('I just updated my phone and suddenly everything takes ages to load wtf USERNAME this update sux I hate it fix it bye', 'USERNAME Thanks for reaching out to us. We are always happy to help. Send us a DM so we can look into this together. URL')\n",
      "tensor([[1., 0., 1., 0., 0., 0., 0., 0., 0.],\n",
      "        [0., 0., 0., 0., 0., 0., 0., 0., 1.]])\n",
      "('I just updated my phone and suddenly everything takes ages to load wtf USERNAME this update sux I hate it fix it bye', 'USERNAME Thanks for reaching out to us. We are always happy to help. Send us a DM so we can look into this together. URL')\n",
      "##########\n",
      "('@AppleSupport after the 11.0.2 my phone just sucks most of the apps are broken, wifi disconnects frequently #apple #ios1102 #painfulupdate', \"USERNAME We'd love to help! Please DM us and let us know any steps you've tried since experiencing these behaviors. URL\")\n",
      "tensor([[1., 0., 1., 0., 0., 0., 0., 0., 0.],\n",
      "        [0., 0., 0., 0., 0., 0., 0., 0., 1.]])\n",
      "('@AppleSupport after the 11.0.2 my phone just sucks most of the apps are broken, wifi disconnects frequently #apple #ios1102 #painfulupdate', \"USERNAME We'd love to help! Please DM us and let us know any steps you've tried since experiencing these behaviors. URL\")\n",
      "##########\n",
      "('Okay USERNAME I used my fucking phone for 2 minutes and it drains it down 8 fucking percent', \"USERNAME Battery life is important, and we're here for you. DM us the iOS version your iPhone is running. We'll go from there. URL\")\n",
      "tensor([[1., 0., 0., 0., 0., 0., 1., 0., 0.],\n",
      "        [0., 0., 0., 1., 1., 0., 0., 0., 1.]])\n",
      "('Okay USERNAME I used my fucking phone for 2 minutes and it drains it down 8 fucking percent', \"USERNAME Battery life is important, and we're here for you. DM us the iOS version your iPhone is running. We'll go from there. URL\")\n",
      "##########\n",
      "(\"You've paralysed my phone with your update USERNAME grrrrrrrrrr\", \"USERNAME We'd be happy to help. Send us a DM and we can start there. URL\")\n",
      "tensor([[1., 0., 1., 0., 0., 0., 0., 0., 0.],\n",
      "        [0., 1., 0., 0., 0., 0., 0., 0., 1.]])\n",
      "(\"You've paralysed my phone with your update USERNAME grrrrrrrrrr\", \"USERNAME We'd be happy to help. Send us a DM and we can start there. URL\")\n",
      "##########\n",
      "('@AppleSupport Can you get my iPhone 7plus back on the old iOS please?  Battery runs out in half the time, apps now frequently crash.', 'USERNAME Thanks for reaching out to us. We are always happy to help. Send us a DM so we can look into this together. URL')\n",
      "tensor([[1., 0., 1., 0., 0., 0., 1., 0., 0.],\n",
      "        [0., 1., 0., 0., 0., 0., 0., 0., 1.]])\n",
      "('@AppleSupport Can you get my iPhone 7plus back on the old iOS please?  Battery runs out in half the time, apps now frequently crash.', 'USERNAME Thanks for reaching out to us. We are always happy to help. Send us a DM so we can look into this together. URL')\n",
      "##########\n",
      "('So the new USERNAME update does not let me listen to music and go on whatsapp at the same time?!?', \"USERNAME We'd like to help. What happens when you try to listen to Apple Music & use WhatsApp? Does the music pause? Let us know in DM. URL\")\n",
      "tensor([[1., 0., 1., 0., 0., 0., 0., 0., 0.],\n",
      "        [0., 0., 0., 0., 0., 1., 0., 0., 1.]])\n",
      "('So the new USERNAME update does not let me listen to music and go on whatsapp at the same time?!?', \"USERNAME We'd like to help. What happens when you try to listen to Apple Music & use WhatsApp? Does the music pause? Let us know in DM. URL\")\n",
      "##########\n",
      "('@AppleSupport Latest version  I have read the help page turned off virtually all apps and location svs too - but in typing this I dropped 3% life', '@AppleSupport Super help - problem solved  once again in love with Apple')\n",
      "tensor([[0., 0., 1., 0., 0., 0., 1., 0., 0.],\n",
      "        [0., 0., 0., 0., 0., 0., 0., 1., 0.]])\n",
      "('@AppleSupport Latest version  I have read the help page turned off virtually all apps and location svs too - but in typing this I dropped 3% life', '@AppleSupport Super help - problem solved  once again in love with Apple')\n",
      "##########\n",
      "('Took my phone off charge at 7:20am.\\n\\n8:03am - 60% battery remaining.\\n\\nUSERNAME plz I beg you, sort your battery life out', 'USERNAME Thanks for reaching out to us. We are always happy to help. Send us a DM so we can look into this together. URL')\n",
      "tensor([[0., 0., 0., 0., 0., 0., 1., 0., 0.],\n",
      "        [0., 1., 0., 0., 0., 0., 0., 0., 1.]])\n",
      "('Took my phone off charge at 7:20am.\\n\\n8:03am - 60% battery remaining.\\n\\nUSERNAME plz I beg you, sort your battery life out', 'USERNAME Thanks for reaching out to us. We are always happy to help. Send us a DM so we can look into this together. URL')\n",
      "##########\n",
      "('My apps stop working without warning and my phone freezes every five minutes! Love the new update USERNAME!!!!', \"USERNAME We'd like to help if we can. When did this start happening? Which version of iOS are you running currently?\")\n",
      "tensor([[0., 0., 1., 0., 0., 0., 0., 0., 0.],\n",
      "        [0., 1., 0., 0., 1., 0., 0., 0., 0.]])\n",
      "('My apps stop working without warning and my phone freezes every five minutes! Love the new update USERNAME!!!!', \"USERNAME We'd like to help if we can. When did this start happening? Which version of iOS are you running currently?\")\n",
      "##########\n",
      "('@AppleSupport I have the latest version iOS. It started immediately after I updated my phone.', 'USERNAME Is there a particular app that seems to cause these issues more than others? What model iPhone are you using? Join us in DM. URL')\n",
      "tensor([[0., 0., 1., 0., 0., 0., 0., 0., 0.],\n",
      "        [0., 0., 0., 0., 0., 1., 0., 0., 1.]])\n",
      "('@AppleSupport I have the latest version iOS. It started immediately after I updated my phone.', 'USERNAME Is there a particular app that seems to cause these issues more than others? What model iPhone are you using? Join us in DM. URL')\n",
      "##########\n",
      "Epoch 1\n",
      "('USERNAME @AppleSupport Me too am suffering , hope the can find a solution', 'USERNAME We can help. Which version of iOS are you on? You can find that in Settings > General > About. Reply in DM. URL')\n",
      "tensor([[1., 0., 0., 0., 0., 0., 0., 0., 0.],\n",
      "        [0., 0., 0., 0., 1., 0., 0., 0., 1.]])\n",
      "('USERNAME @AppleSupport Me too am suffering , hope the can find a solution', 'USERNAME We can help. Which version of iOS are you on? You can find that in Settings > General > About. Reply in DM. URL')\n",
      "##########\n",
      "('I just updated my phone and suddenly everything takes ages to load wtf USERNAME this update sux I hate it fix it bye', 'USERNAME Thanks for reaching out to us. We are always happy to help. Send us a DM so we can look into this together. URL')\n",
      "tensor([[1., 0., 1., 0., 0., 0., 0., 0., 0.],\n",
      "        [0., 0., 0., 0., 0., 0., 0., 0., 1.]])\n",
      "('I just updated my phone and suddenly everything takes ages to load wtf USERNAME this update sux I hate it fix it bye', 'USERNAME Thanks for reaching out to us. We are always happy to help. Send us a DM so we can look into this together. URL')\n",
      "##########\n",
      "('@AppleSupport after the 11.0.2 my phone just sucks most of the apps are broken, wifi disconnects frequently #apple #ios1102 #painfulupdate', \"USERNAME We'd love to help! Please DM us and let us know any steps you've tried since experiencing these behaviors. URL\")\n",
      "tensor([[1., 0., 1., 0., 0., 0., 0., 0., 0.],\n",
      "        [0., 0., 0., 0., 0., 0., 0., 0., 1.]])\n",
      "('@AppleSupport after the 11.0.2 my phone just sucks most of the apps are broken, wifi disconnects frequently #apple #ios1102 #painfulupdate', \"USERNAME We'd love to help! Please DM us and let us know any steps you've tried since experiencing these behaviors. URL\")\n",
      "##########\n",
      "('Okay USERNAME I used my fucking phone for 2 minutes and it drains it down 8 fucking percent', \"USERNAME Battery life is important, and we're here for you. DM us the iOS version your iPhone is running. We'll go from there. URL\")\n",
      "tensor([[1., 0., 0., 0., 0., 0., 1., 0., 0.],\n",
      "        [0., 0., 0., 1., 1., 0., 0., 0., 1.]])\n",
      "('Okay USERNAME I used my fucking phone for 2 minutes and it drains it down 8 fucking percent', \"USERNAME Battery life is important, and we're here for you. DM us the iOS version your iPhone is running. We'll go from there. URL\")\n",
      "##########\n",
      "(\"You've paralysed my phone with your update USERNAME grrrrrrrrrr\", \"USERNAME We'd be happy to help. Send us a DM and we can start there. URL\")\n",
      "tensor([[1., 0., 1., 0., 0., 0., 0., 0., 0.],\n",
      "        [0., 1., 0., 0., 0., 0., 0., 0., 1.]])\n",
      "(\"You've paralysed my phone with your update USERNAME grrrrrrrrrr\", \"USERNAME We'd be happy to help. Send us a DM and we can start there. URL\")\n",
      "##########\n",
      "('@AppleSupport Can you get my iPhone 7plus back on the old iOS please?  Battery runs out in half the time, apps now frequently crash.', 'USERNAME Thanks for reaching out to us. We are always happy to help. Send us a DM so we can look into this together. URL')\n",
      "tensor([[1., 0., 1., 0., 0., 0., 1., 0., 0.],\n",
      "        [0., 1., 0., 0., 0., 0., 0., 0., 1.]])\n",
      "('@AppleSupport Can you get my iPhone 7plus back on the old iOS please?  Battery runs out in half the time, apps now frequently crash.', 'USERNAME Thanks for reaching out to us. We are always happy to help. Send us a DM so we can look into this together. URL')\n",
      "##########\n",
      "('So the new USERNAME update does not let me listen to music and go on whatsapp at the same time?!?', \"USERNAME We'd like to help. What happens when you try to listen to Apple Music & use WhatsApp? Does the music pause? Let us know in DM. URL\")\n",
      "tensor([[1., 0., 1., 0., 0., 0., 0., 0., 0.],\n",
      "        [0., 0., 0., 0., 0., 1., 0., 0., 1.]])\n",
      "('So the new USERNAME update does not let me listen to music and go on whatsapp at the same time?!?', \"USERNAME We'd like to help. What happens when you try to listen to Apple Music & use WhatsApp? Does the music pause? Let us know in DM. URL\")\n",
      "##########\n",
      "('@AppleSupport Latest version  I have read the help page turned off virtually all apps and location svs too - but in typing this I dropped 3% life', '@AppleSupport Super help - problem solved  once again in love with Apple')\n",
      "tensor([[0., 0., 1., 0., 0., 0., 1., 0., 0.],\n",
      "        [0., 0., 0., 0., 0., 0., 0., 1., 0.]])\n",
      "('@AppleSupport Latest version  I have read the help page turned off virtually all apps and location svs too - but in typing this I dropped 3% life', '@AppleSupport Super help - problem solved  once again in love with Apple')\n",
      "##########\n",
      "('Took my phone off charge at 7:20am.\\n\\n8:03am - 60% battery remaining.\\n\\nUSERNAME plz I beg you, sort your battery life out', 'USERNAME Thanks for reaching out to us. We are always happy to help. Send us a DM so we can look into this together. URL')\n",
      "tensor([[0., 0., 0., 0., 0., 0., 1., 0., 0.],\n",
      "        [0., 1., 0., 0., 0., 0., 0., 0., 1.]])\n",
      "('Took my phone off charge at 7:20am.\\n\\n8:03am - 60% battery remaining.\\n\\nUSERNAME plz I beg you, sort your battery life out', 'USERNAME Thanks for reaching out to us. We are always happy to help. Send us a DM so we can look into this together. URL')\n",
      "##########\n",
      "('My apps stop working without warning and my phone freezes every five minutes! Love the new update USERNAME!!!!', \"USERNAME We'd like to help if we can. When did this start happening? Which version of iOS are you running currently?\")\n",
      "tensor([[0., 0., 1., 0., 0., 0., 0., 0., 0.],\n",
      "        [0., 1., 0., 0., 1., 0., 0., 0., 0.]])\n",
      "('My apps stop working without warning and my phone freezes every five minutes! Love the new update USERNAME!!!!', \"USERNAME We'd like to help if we can. When did this start happening? Which version of iOS are you running currently?\")\n",
      "##########\n",
      "('@AppleSupport I have the latest version iOS. It started immediately after I updated my phone.', 'USERNAME Is there a particular app that seems to cause these issues more than others? What model iPhone are you using? Join us in DM. URL')\n",
      "tensor([[0., 0., 1., 0., 0., 0., 0., 0., 0.],\n",
      "        [0., 0., 0., 0., 0., 1., 0., 0., 1.]])\n",
      "('@AppleSupport I have the latest version iOS. It started immediately after I updated my phone.', 'USERNAME Is there a particular app that seems to cause these issues more than others? What model iPhone are you using? Join us in DM. URL')\n",
      "##########\n"
     ]
    },
    {
     "name": "stderr",
     "output_type": "stream",
     "text": [
      "\n"
     ]
    }
   ],
   "source": [
    "from torch.nn import Module\n",
    "\n",
    "class IntentPredictor(Module):\n",
    "\n",
    "    def __init__(self):\n",
    "        super(IntentPredictor, self).__init__()\n",
    "\n",
    "    def forward(self, inputs):\n",
    "        return inputs\n",
    "\n",
    "\n",
    "prediction_dataset = IntentPredictionDataset(data)\n",
    "prediction_dataloader = DataLoader(prediction_dataset, batch_size=2)\n",
    "predictor = IntentPredictor().to('cuda')\n",
    "predictor.train()\n",
    "for epoch in tqdm(range(N_EPOCHS)):\n",
    "    print(\"Epoch\", epoch)\n",
    "    for inputs, targets in classifier_dataloader:\n",
    "        print(inputs)\n",
    "        print(targets)\n",
    "        outputs = predictor(inputs)\n",
    "        print(outputs)\n",
    "        print('##########')"
   ],
   "metadata": {
    "collapsed": false,
    "pycharm": {
     "name": "#%%\n"
    }
   }
  },
  {
   "cell_type": "code",
   "execution_count": 4,
   "outputs": [],
   "source": [],
   "metadata": {
    "collapsed": false,
    "pycharm": {
     "name": "#%%\n"
    }
   }
  },
  {
   "cell_type": "code",
   "execution_count": null,
   "outputs": [],
   "source": [],
   "metadata": {
    "collapsed": false,
    "pycharm": {
     "name": "#%%\n"
    }
   }
  }
 ],
 "metadata": {
  "kernelspec": {
   "display_name": "Python 3",
   "language": "python",
   "name": "python3"
  },
  "language_info": {
   "codemirror_mode": {
    "name": "ipython",
    "version": 2
   },
   "file_extension": ".py",
   "mimetype": "text/x-python",
   "name": "python",
   "nbconvert_exporter": "python",
   "pygments_lexer": "ipython2",
   "version": "2.7.6"
  }
 },
 "nbformat": 4,
 "nbformat_minor": 0
}