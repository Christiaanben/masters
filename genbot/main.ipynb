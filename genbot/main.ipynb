{
 "cells": [
  {
   "cell_type": "markdown",
   "source": [
    "# Parameterised Generation of Conversational Text"
   ],
   "metadata": {
    "collapsed": false,
    "pycharm": {
     "name": "#%% md\n"
    }
   }
  },
  {
   "cell_type": "markdown",
   "source": [
    "## Imports & Config"
   ],
   "metadata": {
    "collapsed": false,
    "pycharm": {
     "name": "#%% md\n"
    }
   }
  },
  {
   "cell_type": "code",
   "execution_count": 1,
   "outputs": [],
   "source": [
    "import json\n",
    "\n",
    "from torch.nn import BCEWithLogitsLoss\n",
    "from torch.optim.adam import Adam\n",
    "from torch.utils.data import DataLoader\n",
    "from tqdm import tqdm\n",
    "\n",
    "from genbot.data import IntentClassificationDataset, IntentPredictionDataset\n",
    "from genbot.models import IntentClassifier, IntentPredictor\n",
    "\n",
    "DATASET_FILENAME = '../data/clean/customer_support_twitter_sample.json'\n",
    "TESTSET_FILENAME = '../data/clean/customer_support_twitter_sample_test.json'\n",
    "N_EPOCHS = 2"
   ],
   "metadata": {
    "collapsed": false,
    "pycharm": {
     "name": "#%%\n"
    }
   }
  },
  {
   "cell_type": "markdown",
   "source": [
    "## Load Data"
   ],
   "metadata": {
    "collapsed": false,
    "pycharm": {
     "name": "#%% md\n"
    }
   }
  },
  {
   "cell_type": "code",
   "execution_count": 2,
   "outputs": [],
   "source": [
    "with open(DATASET_FILENAME) as file:\n",
    "    data = json.load(file)\n",
    "with open(TESTSET_FILENAME) as file:\n",
    "    test = json.load(file)"
   ],
   "metadata": {
    "collapsed": false,
    "pycharm": {
     "name": "#%%\n"
    }
   }
  },
  {
   "cell_type": "markdown",
   "source": [
    "## Train Classification"
   ],
   "metadata": {
    "collapsed": false,
    "pycharm": {
     "name": "#%% md\n"
    }
   }
  },
  {
   "cell_type": "code",
   "execution_count": 2,
   "outputs": [
    {
     "name": "stderr",
     "output_type": "stream",
     "text": [
      "Some weights of the model checkpoint at distilbert-base-uncased were not used when initializing DistilBertModel: ['vocab_layer_norm.bias', 'vocab_transform.weight', 'vocab_layer_norm.weight', 'vocab_transform.bias', 'vocab_projector.bias', 'vocab_projector.weight']\n",
      "- This IS expected if you are initializing DistilBertModel from the checkpoint of a model trained on another task or with another architecture (e.g. initializing a BertForSequenceClassification model from a BertForPreTraining model).\n",
      "- This IS NOT expected if you are initializing DistilBertModel from the checkpoint of a model that you expect to be exactly identical (initializing a BertForSequenceClassification model from a BertForSequenceClassification model).\n",
      "  0%|          | 0/2 [00:00<?, ?it/s]"
     ]
    },
    {
     "name": "stdout",
     "output_type": "stream",
     "text": [
      "Epoch 0\n"
     ]
    },
    {
     "name": "stderr",
     "output_type": "stream",
     "text": [
      " 50%|█████     | 1/2 [00:03<00:03,  3.40s/it]"
     ]
    },
    {
     "name": "stdout",
     "output_type": "stream",
     "text": [
      "running_loss: tensor(0.3084, device='cuda:0', grad_fn=<DivBackward0>)\n",
      "Epoch 1\n"
     ]
    },
    {
     "name": "stderr",
     "output_type": "stream",
     "text": [
      "100%|██████████| 2/2 [00:03<00:00,  1.92s/it]"
     ]
    },
    {
     "name": "stdout",
     "output_type": "stream",
     "text": [
      "running_loss: tensor(0.2403, device='cuda:0', grad_fn=<DivBackward0>)\n"
     ]
    },
    {
     "name": "stderr",
     "output_type": "stream",
     "text": [
      "\n"
     ]
    }
   ],
   "source": [
    "classifier_dataset = IntentClassificationDataset(data)\n",
    "classifier_dataloader = DataLoader(classifier_dataset, batch_size=2)\n",
    "classifier = IntentClassifier(classifier_dataset.n_labels).to('cuda')\n",
    "classifier_criterion = BCEWithLogitsLoss()\n",
    "classifier_optimizer = Adam(classifier.parameters(), lr=1e-05)\n",
    "classifier.train()\n",
    "for epoch in tqdm(range(N_EPOCHS)):\n",
    "    print(\"Epoch\", epoch)\n",
    "    running_loss = 0.\n",
    "    for inputs, targets in classifier_dataloader:\n",
    "        outputs = classifier(inputs)\n",
    "        targets = targets.to('cuda')\n",
    "        loss = classifier_criterion(outputs, targets)\n",
    "        running_loss += loss\n",
    "        loss.backward()\n",
    "        classifier_optimizer.step()\n",
    "    print('running_loss:', running_loss/len(classifier_dataset))\n",
    "\n"
   ],
   "metadata": {
    "collapsed": false,
    "pycharm": {
     "name": "#%%\n"
    }
   }
  },
  {
   "cell_type": "markdown",
   "source": [
    "## Evaluate Classification"
   ],
   "metadata": {
    "collapsed": false,
    "pycharm": {
     "name": "#%% md\n"
    }
   }
  },
  {
   "cell_type": "code",
   "execution_count": 3,
   "outputs": [
    {
     "name": "stdout",
     "output_type": "stream",
     "text": [
      "tensor(0.3165, device='cuda:0',\n",
      "       grad_fn=<BinaryCrossEntropyWithLogitsBackward0>)\n",
      "tensor(0.3701, device='cuda:0',\n",
      "       grad_fn=<BinaryCrossEntropyWithLogitsBackward0>)\n"
     ]
    }
   ],
   "source": [
    "classifier_testset = IntentClassificationDataset(test, intents=classifier_dataset.intents)\n",
    "classifier_testloader = DataLoader(classifier_testset, batch_size=2)\n",
    "classifier.eval()\n",
    "for inputs, targets in classifier_testloader:\n",
    "    outputs = classifier(inputs)\n",
    "    targets = targets.to('cuda')\n",
    "\n",
    "    loss = classifier_criterion(outputs, targets)\n",
    "    print(loss)"
   ],
   "metadata": {
    "collapsed": false,
    "pycharm": {
     "name": "#%%\n"
    }
   }
  },
  {
   "cell_type": "code",
   "execution_count": 4,
   "outputs": [
    {
     "name": "stderr",
     "output_type": "stream",
     "text": [
      "100%|██████████| 2/2 [00:00<00:00, 238.06it/s]"
     ]
    },
    {
     "name": "stdout",
     "output_type": "stream",
     "text": [
      "Epoch 0\n",
      "inputs: tensor([[[0., 0., 0., 0., 0., 0., 0., 0., 0.],\n",
      "         [0., 0., 0., 0., 0., 0., 0., 1., 0.]],\n",
      "\n",
      "        [[0., 0., 0., 0., 0., 0., 0., 0., 0.],\n",
      "         [0., 0., 0., 1., 0., 0., 0., 1., 0.]]])\n",
      "targets: tensor([[0., 0., 1., 0., 0., 0., 1., 0., 0.],\n",
      "        [0., 0., 0., 0., 0., 0., 1., 0., 0.]])\n",
      "outputs: tensor([[[0., 0., 0., 0., 0., 0., 0., 0., 0.],\n",
      "         [0., 0., 0., 0., 0., 0., 0., 1., 0.]],\n",
      "\n",
      "        [[0., 0., 0., 0., 0., 0., 0., 0., 0.],\n",
      "         [0., 0., 0., 1., 0., 0., 0., 1., 0.]]])\n",
      "##########\n",
      "inputs: tensor([[[0., 0., 0., 0., 0., 0., 0., 0., 0.],\n",
      "         [0., 0., 0., 1., 0., 0., 0., 1., 0.]],\n",
      "\n",
      "        [[0., 0., 0., 0., 0., 0., 0., 0., 0.],\n",
      "         [1., 0., 0., 0., 0., 0., 0., 1., 0.]]])\n",
      "targets: tensor([[0., 0., 0., 0., 0., 0., 1., 0., 0.],\n",
      "        [0., 1., 1., 0., 0., 0., 1., 0., 0.]])\n",
      "outputs: tensor([[[0., 0., 0., 0., 0., 0., 0., 0., 0.],\n",
      "         [0., 0., 0., 1., 0., 0., 0., 1., 0.]],\n",
      "\n",
      "        [[0., 0., 0., 0., 0., 0., 0., 0., 0.],\n",
      "         [1., 0., 0., 0., 0., 0., 0., 1., 0.]]])\n",
      "##########\n",
      "inputs: tensor([[[0., 0., 0., 0., 0., 0., 0., 0., 0.],\n",
      "         [0., 0., 0., 1., 0., 0., 0., 1., 0.]],\n",
      "\n",
      "        [[0., 0., 0., 0., 0., 1., 1., 0., 0.],\n",
      "         [1., 0., 0., 1., 0., 0., 0., 1., 0.]]])\n",
      "targets: tensor([[0., 0., 0., 0., 0., 1., 1., 0., 0.],\n",
      "        [0., 0., 0., 0., 0., 1., 1., 0., 0.]])\n",
      "outputs: tensor([[[0., 0., 0., 0., 0., 0., 0., 0., 0.],\n",
      "         [0., 0., 0., 1., 0., 0., 0., 1., 0.]],\n",
      "\n",
      "        [[0., 0., 0., 0., 0., 1., 1., 0., 0.],\n",
      "         [1., 0., 0., 1., 0., 0., 0., 1., 0.]]])\n",
      "##########\n",
      "inputs: tensor([[[0., 0., 0., 0., 0., 0., 0., 0., 0.],\n",
      "         [0., 0., 0., 1., 0., 0., 0., 1., 0.]],\n",
      "\n",
      "        [[0., 0., 0., 0., 0., 0., 0., 0., 0.],\n",
      "         [1., 0., 0., 0., 0., 0., 0., 0., 0.]]])\n",
      "targets: tensor([[0., 0., 0., 0., 1., 0., 1., 0., 0.],\n",
      "        [0., 0., 0., 0., 0., 1., 1., 0., 0.]])\n",
      "outputs: tensor([[[0., 0., 0., 0., 0., 0., 0., 0., 0.],\n",
      "         [0., 0., 0., 1., 0., 0., 0., 1., 0.]],\n",
      "\n",
      "        [[0., 0., 0., 0., 0., 0., 0., 0., 0.],\n",
      "         [1., 0., 0., 0., 0., 0., 0., 0., 0.]]])\n",
      "##########\n",
      "inputs: tensor([[[0., 0., 0., 0., 0., 0., 0., 0., 0.],\n",
      "         [0., 0., 0., 1., 0., 0., 0., 0., 0.]],\n",
      "\n",
      "        [[0., 0., 1., 0., 0., 1., 0., 0., 0.],\n",
      "         [0., 0., 0., 1., 0., 0., 0., 0., 0.]]])\n",
      "targets: tensor([[0., 0., 1., 0., 0., 1., 0., 0., 0.],\n",
      "        [0., 0., 0., 0., 1., 0., 1., 0., 0.]])\n",
      "outputs: tensor([[[0., 0., 0., 0., 0., 0., 0., 0., 0.],\n",
      "         [0., 0., 0., 1., 0., 0., 0., 0., 0.]],\n",
      "\n",
      "        [[0., 0., 1., 0., 0., 1., 0., 0., 0.],\n",
      "         [0., 0., 0., 1., 0., 0., 0., 0., 0.]]])\n",
      "##########\n",
      "Epoch 1\n",
      "inputs: tensor([[[0., 0., 0., 0., 0., 0., 0., 0., 0.],\n",
      "         [0., 0., 0., 0., 0., 0., 0., 1., 0.]],\n",
      "\n",
      "        [[0., 0., 0., 0., 0., 0., 0., 0., 0.],\n",
      "         [0., 0., 0., 1., 0., 0., 0., 1., 0.]]])\n",
      "targets: tensor([[0., 0., 1., 0., 0., 0., 1., 0., 0.],\n",
      "        [0., 0., 0., 0., 0., 0., 1., 0., 0.]])\n",
      "outputs: tensor([[[0., 0., 0., 0., 0., 0., 0., 0., 0.],\n",
      "         [0., 0., 0., 0., 0., 0., 0., 1., 0.]],\n",
      "\n",
      "        [[0., 0., 0., 0., 0., 0., 0., 0., 0.],\n",
      "         [0., 0., 0., 1., 0., 0., 0., 1., 0.]]])\n",
      "##########\n",
      "inputs: tensor([[[0., 0., 0., 0., 0., 0., 0., 0., 0.],\n",
      "         [0., 0., 0., 1., 0., 0., 0., 1., 0.]],\n",
      "\n",
      "        [[0., 0., 0., 0., 0., 0., 0., 0., 0.],\n",
      "         [1., 0., 0., 0., 0., 0., 0., 1., 0.]]])\n",
      "targets: tensor([[0., 0., 0., 0., 0., 0., 1., 0., 0.],\n",
      "        [0., 1., 1., 0., 0., 0., 1., 0., 0.]])\n",
      "outputs: tensor([[[0., 0., 0., 0., 0., 0., 0., 0., 0.],\n",
      "         [0., 0., 0., 1., 0., 0., 0., 1., 0.]],\n",
      "\n",
      "        [[0., 0., 0., 0., 0., 0., 0., 0., 0.],\n",
      "         [1., 0., 0., 0., 0., 0., 0., 1., 0.]]])\n",
      "##########\n",
      "inputs: tensor([[[0., 0., 0., 0., 0., 0., 0., 0., 0.],\n",
      "         [0., 0., 0., 1., 0., 0., 0., 1., 0.]],\n",
      "\n",
      "        [[0., 0., 0., 0., 0., 1., 1., 0., 0.],\n",
      "         [1., 0., 0., 1., 0., 0., 0., 1., 0.]]])\n",
      "targets: tensor([[0., 0., 0., 0., 0., 1., 1., 0., 0.],\n",
      "        [0., 0., 0., 0., 0., 1., 1., 0., 0.]])\n",
      "outputs: tensor([[[0., 0., 0., 0., 0., 0., 0., 0., 0.],\n",
      "         [0., 0., 0., 1., 0., 0., 0., 1., 0.]],\n",
      "\n",
      "        [[0., 0., 0., 0., 0., 1., 1., 0., 0.],\n",
      "         [1., 0., 0., 1., 0., 0., 0., 1., 0.]]])\n",
      "##########\n",
      "inputs: tensor([[[0., 0., 0., 0., 0., 0., 0., 0., 0.],\n",
      "         [0., 0., 0., 1., 0., 0., 0., 1., 0.]],\n",
      "\n",
      "        [[0., 0., 0., 0., 0., 0., 0., 0., 0.],\n",
      "         [1., 0., 0., 0., 0., 0., 0., 0., 0.]]])\n",
      "targets: tensor([[0., 0., 0., 0., 1., 0., 1., 0., 0.],\n",
      "        [0., 0., 0., 0., 0., 1., 1., 0., 0.]])\n",
      "outputs: tensor([[[0., 0., 0., 0., 0., 0., 0., 0., 0.],\n",
      "         [0., 0., 0., 1., 0., 0., 0., 1., 0.]],\n",
      "\n",
      "        [[0., 0., 0., 0., 0., 0., 0., 0., 0.],\n",
      "         [1., 0., 0., 0., 0., 0., 0., 0., 0.]]])\n",
      "##########\n",
      "inputs: tensor([[[0., 0., 0., 0., 0., 0., 0., 0., 0.],\n",
      "         [0., 0., 0., 1., 0., 0., 0., 0., 0.]],\n",
      "\n",
      "        [[0., 0., 1., 0., 0., 1., 0., 0., 0.],\n",
      "         [0., 0., 0., 1., 0., 0., 0., 0., 0.]]])\n",
      "targets: tensor([[0., 0., 1., 0., 0., 1., 0., 0., 0.],\n",
      "        [0., 0., 0., 0., 1., 0., 1., 0., 0.]])\n",
      "outputs: tensor([[[0., 0., 0., 0., 0., 0., 0., 0., 0.],\n",
      "         [0., 0., 0., 1., 0., 0., 0., 0., 0.]],\n",
      "\n",
      "        [[0., 0., 1., 0., 0., 1., 0., 0., 0.],\n",
      "         [0., 0., 0., 1., 0., 0., 0., 0., 0.]]])\n",
      "##########\n"
     ]
    },
    {
     "name": "stderr",
     "output_type": "stream",
     "text": [
      "\n"
     ]
    }
   ],
   "source": [
    "from torch.nn import Module\n",
    "\n",
    "class IntentPredictor(Module):\n",
    "\n",
    "    def __init__(self):\n",
    "        super(IntentPredictor, self).__init__()\n",
    "\n",
    "    def forward(self, inputs):\n",
    "        return inputs\n",
    "\n",
    "\n",
    "prediction_dataset = IntentPredictionDataset(data)\n",
    "prediction_dataloader = DataLoader(prediction_dataset, batch_size=2)\n",
    "predictor = IntentPredictor().to('cuda')\n",
    "predictor.train()\n",
    "for epoch in tqdm(range(N_EPOCHS)):\n",
    "    print(\"Epoch\", epoch)\n",
    "    for inputs, targets in prediction_dataloader:\n",
    "        print('inputs:', inputs)\n",
    "        print('targets:', targets)\n",
    "        outputs = predictor(inputs)\n",
    "        print('outputs:', outputs)\n",
    "        print('##########')"
   ],
   "metadata": {
    "collapsed": false,
    "pycharm": {
     "name": "#%%\n"
    }
   }
  },
  {
   "cell_type": "code",
   "execution_count": null,
   "outputs": [],
   "source": [],
   "metadata": {
    "collapsed": false,
    "pycharm": {
     "name": "#%%\n"
    }
   }
  }
 ],
 "metadata": {
  "kernelspec": {
   "display_name": "Python 3",
   "language": "python",
   "name": "python3"
  },
  "language_info": {
   "codemirror_mode": {
    "name": "ipython",
    "version": 2
   },
   "file_extension": ".py",
   "mimetype": "text/x-python",
   "name": "python",
   "nbconvert_exporter": "python",
   "pygments_lexer": "ipython2",
   "version": "2.7.6"
  }
 },
 "nbformat": 4,
 "nbformat_minor": 0
}